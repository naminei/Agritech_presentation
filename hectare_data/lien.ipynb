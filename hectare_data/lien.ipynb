{
 "cells": [
  {
   "cell_type": "code",
   "execution_count": 1,
   "metadata": {},
   "outputs": [],
   "source": [
    "import pandas as pd\n",
    "import pyarrow.parquet as pq\n",
    "from matplotlib import pyplot as plt\n",
    "import os\n",
    "from pathlib import Path\n",
    "import shutil"
   ]
  },
  {
   "cell_type": "markdown",
   "metadata": {},
   "source": []
  },
  {
   "cell_type": "code",
   "execution_count": 2,
   "metadata": {},
   "outputs": [],
   "source": [
    "rootdir_prod_ia = '../hectare_data/heatlive_allaitant_prod_ia/normalized/'\n",
    "df = pd.DataFrame()\n",
    "for subdir, dirs, files in os.walk(rootdir_prod_ia):\n",
    "    for file in files:\n",
    "        ax_tab = pd.read_parquet('../hectare_data/heatlive_allaitant_prod_ia/ax_raw/' + os.path.join(file))\n",
    "        nr_tab = pd.read_parquet('../hectare_data/heatlive_allaitant_prod_ia/normalized/' + os.path.join(file))\n",
    "        ax_tab['COW_ID'] = str(os.path.join(file)[0:12])\n",
    "        ax_tab.index = pd.to_datetime(ax_tab.index).floor('5T')\n",
    "        df = df.append(ax_tab.merge(nr_tab, left_index=True, right_index=True))"
   ]
  },
  {
   "cell_type": "code",
   "execution_count": 3,
   "metadata": {},
   "outputs": [],
   "source": [
    "rootdir_ms = '../hectare_data/heatlive_allaitant_ms/normalized/'\n",
    "for subdir, dirs, files in os.walk(rootdir_ms):\n",
    "    for file in files:\n",
    "        ax_tab = pd.read_parquet('../hectare_data/heatlive_allaitant_ms/ax_raw/' + os.path.join(file))\n",
    "        nr_tab = pd.read_parquet('../hectare_data/heatlive_allaitant_ms/normalized/' + os.path.join(file))\n",
    "        ax_tab['COW_ID'] = str(os.path.join(file)[0:12])\n",
    "        ax_tab.index = pd.to_datetime(ax_tab.index).floor('5T')\n",
    "        df = df.append(ax_tab.merge(nr_tab, left_index=True, right_index=True))"
   ]
  },
  {
   "cell_type": "code",
   "execution_count": 4,
   "metadata": {},
   "outputs": [],
   "source": [
    "rootdir_ms_utc = '../hectare_data/libvel_laitier_ms_utc/normalized/'\n",
    "for subdir, dirs, files in os.walk(rootdir_ms_utc):\n",
    "    for file in files:\n",
    "        ax_tab = pd.read_parquet('../hectare_data/libvel_laitier_ms_utc/ax_raw/' + os.path.join(file))\n",
    "        nr_tab = pd.read_parquet('../hectare_data/libvel_laitier_ms_utc/normalized/' + os.path.join(file))\n",
    "        ax_tab['COW_ID'] = str(os.path.join(file)[0:12])\n",
    "        ax_tab.index = pd.to_datetime(ax_tab.index).floor('5T')\n",
    "        df = df.append(ax_tab.merge(nr_tab, left_index=True, right_index=True))"
   ]
  },
  {
   "cell_type": "code",
   "execution_count": 5,
   "metadata": {},
   "outputs": [],
   "source": [
    "rootdir_prod_tvax = '../hectare_data/libvel_laitier_prod_tvax/normalized/'\n",
    "for subdir, dirs, files in os.walk(rootdir_prod_tvax):\n",
    "    for file in files:\n",
    "        ax_tab = pd.read_parquet('../hectare_data/libvel_laitier_prod_tvax/ax_raw/' + os.path.join(file))\n",
    "        nr_tab = pd.read_parquet('../hectare_data/libvel_laitier_prod_tvax/normalized/' + os.path.join(file))\n",
    "        ax_tab['COW_ID'] = str(os.path.join(file)[0:12])\n",
    "        ax_tab.index = pd.to_datetime(ax_tab.index).floor('5T')\n",
    "        df = df.append(ax_tab.merge(nr_tab, left_index=True, right_index=True))"
   ]
  },
  {
   "cell_type": "code",
   "execution_count": 6,
   "metadata": {},
   "outputs": [
    {
     "ename": "FileNotFoundError",
     "evalue": "[Errno 2] No such file or directory: '/Users/agritech/Desktop/Agritech/Meuh/hectare_data/all_file.csv'",
     "output_type": "error",
     "traceback": [
      "\u001b[0;31m---------------------------------------------------------------------------\u001b[0m",
      "\u001b[0;31mFileNotFoundError\u001b[0m                         Traceback (most recent call last)",
      "\u001b[0;32m/var/folders/_l/s65t176j7jq71wwyvcgqtd0r0000gp/T/ipykernel_6654/2765408840.py\u001b[0m in \u001b[0;36m<module>\u001b[0;34m\u001b[0m\n\u001b[1;32m      1\u001b[0m \u001b[0;32mif\u001b[0m \u001b[0mos\u001b[0m\u001b[0;34m.\u001b[0m\u001b[0mpath\u001b[0m\u001b[0;34m.\u001b[0m\u001b[0misfile\u001b[0m\u001b[0;34m(\u001b[0m\u001b[0;34m'~/Desktop/Agritech/Meuh/hectare_data/all_file.csv'\u001b[0m\u001b[0;34m)\u001b[0m\u001b[0;34m:\u001b[0m\u001b[0;34m\u001b[0m\u001b[0;34m\u001b[0m\u001b[0m\n\u001b[1;32m      2\u001b[0m     \u001b[0mshutil\u001b[0m\u001b[0;34m.\u001b[0m\u001b[0mrmtree\u001b[0m\u001b[0;34m(\u001b[0m\u001b[0;34m'~/Desktop/Agritech/Meuh/hectare_data/all_file.csv'\u001b[0m\u001b[0;34m)\u001b[0m\u001b[0;34m\u001b[0m\u001b[0;34m\u001b[0m\u001b[0m\n\u001b[0;32m----> 3\u001b[0;31m \u001b[0mdf\u001b[0m\u001b[0;34m.\u001b[0m\u001b[0mto_csv\u001b[0m\u001b[0;34m(\u001b[0m\u001b[0;34m'~/Desktop/Agritech/Meuh/hectare_data/all_file.csv'\u001b[0m\u001b[0;34m)\u001b[0m\u001b[0;34m\u001b[0m\u001b[0;34m\u001b[0m\u001b[0m\n\u001b[0m",
      "\u001b[0;32m~/miniconda3/lib/python3.9/site-packages/pandas/core/generic.py\u001b[0m in \u001b[0;36mto_csv\u001b[0;34m(self, path_or_buf, sep, na_rep, float_format, columns, header, index, index_label, mode, encoding, compression, quoting, quotechar, line_terminator, chunksize, date_format, doublequote, escapechar, decimal, errors, storage_options)\u001b[0m\n\u001b[1;32m   3464\u001b[0m         )\n\u001b[1;32m   3465\u001b[0m \u001b[0;34m\u001b[0m\u001b[0m\n\u001b[0;32m-> 3466\u001b[0;31m         return DataFrameRenderer(formatter).to_csv(\n\u001b[0m\u001b[1;32m   3467\u001b[0m             \u001b[0mpath_or_buf\u001b[0m\u001b[0;34m,\u001b[0m\u001b[0;34m\u001b[0m\u001b[0;34m\u001b[0m\u001b[0m\n\u001b[1;32m   3468\u001b[0m             \u001b[0mline_terminator\u001b[0m\u001b[0;34m=\u001b[0m\u001b[0mline_terminator\u001b[0m\u001b[0;34m,\u001b[0m\u001b[0;34m\u001b[0m\u001b[0;34m\u001b[0m\u001b[0m\n",
      "\u001b[0;32m~/miniconda3/lib/python3.9/site-packages/pandas/io/formats/format.py\u001b[0m in \u001b[0;36mto_csv\u001b[0;34m(self, path_or_buf, encoding, sep, columns, index_label, mode, compression, quoting, quotechar, line_terminator, chunksize, date_format, doublequote, escapechar, errors, storage_options)\u001b[0m\n\u001b[1;32m   1103\u001b[0m             \u001b[0mformatter\u001b[0m\u001b[0;34m=\u001b[0m\u001b[0mself\u001b[0m\u001b[0;34m.\u001b[0m\u001b[0mfmt\u001b[0m\u001b[0;34m,\u001b[0m\u001b[0;34m\u001b[0m\u001b[0;34m\u001b[0m\u001b[0m\n\u001b[1;32m   1104\u001b[0m         )\n\u001b[0;32m-> 1105\u001b[0;31m         \u001b[0mcsv_formatter\u001b[0m\u001b[0;34m.\u001b[0m\u001b[0msave\u001b[0m\u001b[0;34m(\u001b[0m\u001b[0;34m)\u001b[0m\u001b[0;34m\u001b[0m\u001b[0;34m\u001b[0m\u001b[0m\n\u001b[0m\u001b[1;32m   1106\u001b[0m \u001b[0;34m\u001b[0m\u001b[0m\n\u001b[1;32m   1107\u001b[0m         \u001b[0;32mif\u001b[0m \u001b[0mcreated_buffer\u001b[0m\u001b[0;34m:\u001b[0m\u001b[0;34m\u001b[0m\u001b[0;34m\u001b[0m\u001b[0m\n",
      "\u001b[0;32m~/miniconda3/lib/python3.9/site-packages/pandas/io/formats/csvs.py\u001b[0m in \u001b[0;36msave\u001b[0;34m(self)\u001b[0m\n\u001b[1;32m    235\u001b[0m         \"\"\"\n\u001b[1;32m    236\u001b[0m         \u001b[0;31m# apply compression and byte/text conversion\u001b[0m\u001b[0;34m\u001b[0m\u001b[0;34m\u001b[0m\u001b[0;34m\u001b[0m\u001b[0m\n\u001b[0;32m--> 237\u001b[0;31m         with get_handle(\n\u001b[0m\u001b[1;32m    238\u001b[0m             \u001b[0mself\u001b[0m\u001b[0;34m.\u001b[0m\u001b[0mfilepath_or_buffer\u001b[0m\u001b[0;34m,\u001b[0m\u001b[0;34m\u001b[0m\u001b[0;34m\u001b[0m\u001b[0m\n\u001b[1;32m    239\u001b[0m             \u001b[0mself\u001b[0m\u001b[0;34m.\u001b[0m\u001b[0mmode\u001b[0m\u001b[0;34m,\u001b[0m\u001b[0;34m\u001b[0m\u001b[0;34m\u001b[0m\u001b[0m\n",
      "\u001b[0;32m~/miniconda3/lib/python3.9/site-packages/pandas/io/common.py\u001b[0m in \u001b[0;36mget_handle\u001b[0;34m(path_or_buf, mode, encoding, compression, memory_map, is_text, errors, storage_options)\u001b[0m\n\u001b[1;32m    700\u001b[0m         \u001b[0;32mif\u001b[0m \u001b[0mioargs\u001b[0m\u001b[0;34m.\u001b[0m\u001b[0mencoding\u001b[0m \u001b[0;32mand\u001b[0m \u001b[0;34m\"b\"\u001b[0m \u001b[0;32mnot\u001b[0m \u001b[0;32min\u001b[0m \u001b[0mioargs\u001b[0m\u001b[0;34m.\u001b[0m\u001b[0mmode\u001b[0m\u001b[0;34m:\u001b[0m\u001b[0;34m\u001b[0m\u001b[0;34m\u001b[0m\u001b[0m\n\u001b[1;32m    701\u001b[0m             \u001b[0;31m# Encoding\u001b[0m\u001b[0;34m\u001b[0m\u001b[0;34m\u001b[0m\u001b[0;34m\u001b[0m\u001b[0m\n\u001b[0;32m--> 702\u001b[0;31m             handle = open(\n\u001b[0m\u001b[1;32m    703\u001b[0m                 \u001b[0mhandle\u001b[0m\u001b[0;34m,\u001b[0m\u001b[0;34m\u001b[0m\u001b[0;34m\u001b[0m\u001b[0m\n\u001b[1;32m    704\u001b[0m                 \u001b[0mioargs\u001b[0m\u001b[0;34m.\u001b[0m\u001b[0mmode\u001b[0m\u001b[0;34m,\u001b[0m\u001b[0;34m\u001b[0m\u001b[0;34m\u001b[0m\u001b[0m\n",
      "\u001b[0;31mFileNotFoundError\u001b[0m: [Errno 2] No such file or directory: '/Users/agritech/Desktop/Agritech/Meuh/hectare_data/all_file.csv'"
     ]
    }
   ],
   "source": [
    "if os.path.isfile('~/Desktop/Agritech/Meuh/hectare_data/all_file.csv'):\n",
    "    os.remove('~/Desktop/Agritech/Meuh/hectare_data/all_file.csv')\n",
    "df.to_csv('~/Desktop/Agritech/Meuh/hectare_data/all_file.csv')"
   ]
  },
  {
   "cell_type": "code",
   "execution_count": null,
   "metadata": {},
   "outputs": [
    {
     "data": {
      "text/plain": [
       "0.1928870129262346"
      ]
     },
     "execution_count": 8,
     "metadata": {},
     "output_type": "execute_result"
    }
   ],
   "source": [
    "df['Ingestion'] = df['Ingestion_at_pasture'] + df['Ingestion_at_trough']\n",
    "#df['Ingestion'] = 1 * df['Ingestion_at_pasture'] + 1 * df['Ingestion_at_trough']\n",
    "df['Ingestion'].mean()\n"
   ]
  },
  {
   "cell_type": "code",
   "execution_count": null,
   "metadata": {},
   "outputs": [
    {
     "data": {
      "text/html": [
       "<div>\n",
       "<style scoped>\n",
       "    .dataframe tbody tr th:only-of-type {\n",
       "        vertical-align: middle;\n",
       "    }\n",
       "\n",
       "    .dataframe tbody tr th {\n",
       "        vertical-align: top;\n",
       "    }\n",
       "\n",
       "    .dataframe thead th {\n",
       "        text-align: right;\n",
       "    }\n",
       "</style>\n",
       "<table border=\"1\" class=\"dataframe\">\n",
       "  <thead>\n",
       "    <tr style=\"text-align: right;\">\n",
       "      <th></th>\n",
       "      <th>ChAg</th>\n",
       "      <th>ChAn</th>\n",
       "      <th>Chgx</th>\n",
       "      <th>EAg</th>\n",
       "      <th>EAn</th>\n",
       "      <th>Egx</th>\n",
       "      <th>EtAg</th>\n",
       "      <th>Etgx</th>\n",
       "      <th>P0An</th>\n",
       "      <th>COW_ID</th>\n",
       "      <th>Rumination</th>\n",
       "      <th>Rest</th>\n",
       "      <th>OverActivity</th>\n",
       "      <th>Ingestion_at_trough</th>\n",
       "      <th>Ingestion_at_pasture</th>\n",
       "      <th>OtherActivity</th>\n",
       "      <th>Up</th>\n",
       "      <th>Ingestion</th>\n",
       "    </tr>\n",
       "    <tr>\n",
       "      <th>#YYYY-MM-DD HH:MM:SS</th>\n",
       "      <th></th>\n",
       "      <th></th>\n",
       "      <th></th>\n",
       "      <th></th>\n",
       "      <th></th>\n",
       "      <th></th>\n",
       "      <th></th>\n",
       "      <th></th>\n",
       "      <th></th>\n",
       "      <th></th>\n",
       "      <th></th>\n",
       "      <th></th>\n",
       "      <th></th>\n",
       "      <th></th>\n",
       "      <th></th>\n",
       "      <th></th>\n",
       "      <th></th>\n",
       "      <th></th>\n",
       "    </tr>\n",
       "  </thead>\n",
       "  <tbody>\n",
       "    <tr>\n",
       "      <th>2018-09-19 00:00:00</th>\n",
       "      <td>0.0</td>\n",
       "      <td>0.00</td>\n",
       "      <td>39.0</td>\n",
       "      <td>0.0</td>\n",
       "      <td>0.0</td>\n",
       "      <td>2.0</td>\n",
       "      <td>0.00000</td>\n",
       "      <td>54.6</td>\n",
       "      <td>0.00000</td>\n",
       "      <td>FR4973400320</td>\n",
       "      <td>False</td>\n",
       "      <td>True</td>\n",
       "      <td>False</td>\n",
       "      <td>False</td>\n",
       "      <td>False</td>\n",
       "      <td>False</td>\n",
       "      <td>False</td>\n",
       "      <td>False</td>\n",
       "    </tr>\n",
       "    <tr>\n",
       "      <th>2018-09-19 00:05:00</th>\n",
       "      <td>4.0</td>\n",
       "      <td>4.00</td>\n",
       "      <td>40.0</td>\n",
       "      <td>1.5</td>\n",
       "      <td>1.0</td>\n",
       "      <td>0.0</td>\n",
       "      <td>1.00000</td>\n",
       "      <td>44.0</td>\n",
       "      <td>0.00000</td>\n",
       "      <td>FR4973400320</td>\n",
       "      <td>False</td>\n",
       "      <td>True</td>\n",
       "      <td>False</td>\n",
       "      <td>False</td>\n",
       "      <td>False</td>\n",
       "      <td>False</td>\n",
       "      <td>False</td>\n",
       "      <td>False</td>\n",
       "    </tr>\n",
       "    <tr>\n",
       "      <th>2018-09-19 00:10:00</th>\n",
       "      <td>4.0</td>\n",
       "      <td>4.75</td>\n",
       "      <td>2.0</td>\n",
       "      <td>1.5</td>\n",
       "      <td>1.0</td>\n",
       "      <td>-10.0</td>\n",
       "      <td>1.00000</td>\n",
       "      <td>3.0</td>\n",
       "      <td>0.00000</td>\n",
       "      <td>FR4973400320</td>\n",
       "      <td>False</td>\n",
       "      <td>True</td>\n",
       "      <td>False</td>\n",
       "      <td>False</td>\n",
       "      <td>False</td>\n",
       "      <td>False</td>\n",
       "      <td>False</td>\n",
       "      <td>False</td>\n",
       "    </tr>\n",
       "    <tr>\n",
       "      <th>2018-09-19 00:15:00</th>\n",
       "      <td>38.0</td>\n",
       "      <td>40.00</td>\n",
       "      <td>48.0</td>\n",
       "      <td>8.0</td>\n",
       "      <td>10.0</td>\n",
       "      <td>-1.0</td>\n",
       "      <td>10.00000</td>\n",
       "      <td>28.8</td>\n",
       "      <td>9.60000</td>\n",
       "      <td>FR4973400320</td>\n",
       "      <td>False</td>\n",
       "      <td>True</td>\n",
       "      <td>False</td>\n",
       "      <td>False</td>\n",
       "      <td>False</td>\n",
       "      <td>False</td>\n",
       "      <td>False</td>\n",
       "      <td>False</td>\n",
       "    </tr>\n",
       "    <tr>\n",
       "      <th>2018-09-19 00:20:00</th>\n",
       "      <td>19.2</td>\n",
       "      <td>45.00</td>\n",
       "      <td>10.0</td>\n",
       "      <td>4.8</td>\n",
       "      <td>12.0</td>\n",
       "      <td>-9.0</td>\n",
       "      <td>8.57143</td>\n",
       "      <td>9.0</td>\n",
       "      <td>15.00000</td>\n",
       "      <td>FR4973400320</td>\n",
       "      <td>False</td>\n",
       "      <td>True</td>\n",
       "      <td>False</td>\n",
       "      <td>False</td>\n",
       "      <td>False</td>\n",
       "      <td>False</td>\n",
       "      <td>False</td>\n",
       "      <td>False</td>\n",
       "    </tr>\n",
       "    <tr>\n",
       "      <th>...</th>\n",
       "      <td>...</td>\n",
       "      <td>...</td>\n",
       "      <td>...</td>\n",
       "      <td>...</td>\n",
       "      <td>...</td>\n",
       "      <td>...</td>\n",
       "      <td>...</td>\n",
       "      <td>...</td>\n",
       "      <td>...</td>\n",
       "      <td>...</td>\n",
       "      <td>...</td>\n",
       "      <td>...</td>\n",
       "      <td>...</td>\n",
       "      <td>...</td>\n",
       "      <td>...</td>\n",
       "      <td>...</td>\n",
       "      <td>...</td>\n",
       "      <td>...</td>\n",
       "    </tr>\n",
       "    <tr>\n",
       "      <th>2015-08-29 04:30:00</th>\n",
       "      <td>0.0</td>\n",
       "      <td>0.00</td>\n",
       "      <td>7.0</td>\n",
       "      <td>0.0</td>\n",
       "      <td>0.0</td>\n",
       "      <td>2.0</td>\n",
       "      <td>0.00000</td>\n",
       "      <td>7.7</td>\n",
       "      <td>0.00000</td>\n",
       "      <td>FR0200971363</td>\n",
       "      <td>True</td>\n",
       "      <td>False</td>\n",
       "      <td>False</td>\n",
       "      <td>False</td>\n",
       "      <td>False</td>\n",
       "      <td>False</td>\n",
       "      <td>False</td>\n",
       "      <td>False</td>\n",
       "    </tr>\n",
       "    <tr>\n",
       "      <th>2015-08-29 04:35:00</th>\n",
       "      <td>32.0</td>\n",
       "      <td>45.00</td>\n",
       "      <td>44.0</td>\n",
       "      <td>8.0</td>\n",
       "      <td>20.0</td>\n",
       "      <td>-10.0</td>\n",
       "      <td>8.57143</td>\n",
       "      <td>30.8</td>\n",
       "      <td>4.26667</td>\n",
       "      <td>FR0200971363</td>\n",
       "      <td>True</td>\n",
       "      <td>False</td>\n",
       "      <td>False</td>\n",
       "      <td>False</td>\n",
       "      <td>False</td>\n",
       "      <td>False</td>\n",
       "      <td>False</td>\n",
       "      <td>False</td>\n",
       "    </tr>\n",
       "    <tr>\n",
       "      <th>2015-08-29 04:40:00</th>\n",
       "      <td>21.6</td>\n",
       "      <td>42.75</td>\n",
       "      <td>8.0</td>\n",
       "      <td>3.6</td>\n",
       "      <td>9.0</td>\n",
       "      <td>-11.0</td>\n",
       "      <td>1.28571</td>\n",
       "      <td>12.0</td>\n",
       "      <td>24.06670</td>\n",
       "      <td>FR0200971363</td>\n",
       "      <td>True</td>\n",
       "      <td>False</td>\n",
       "      <td>False</td>\n",
       "      <td>False</td>\n",
       "      <td>False</td>\n",
       "      <td>False</td>\n",
       "      <td>False</td>\n",
       "      <td>False</td>\n",
       "    </tr>\n",
       "    <tr>\n",
       "      <th>2015-08-29 04:45:00</th>\n",
       "      <td>22.4</td>\n",
       "      <td>72.00</td>\n",
       "      <td>2.0</td>\n",
       "      <td>3.2</td>\n",
       "      <td>16.0</td>\n",
       "      <td>-14.0</td>\n",
       "      <td>0.00000</td>\n",
       "      <td>3.0</td>\n",
       "      <td>38.40000</td>\n",
       "      <td>FR0200971363</td>\n",
       "      <td>True</td>\n",
       "      <td>False</td>\n",
       "      <td>False</td>\n",
       "      <td>False</td>\n",
       "      <td>False</td>\n",
       "      <td>False</td>\n",
       "      <td>False</td>\n",
       "      <td>False</td>\n",
       "    </tr>\n",
       "    <tr>\n",
       "      <th>2015-08-29 04:50:00</th>\n",
       "      <td>30.8</td>\n",
       "      <td>66.50</td>\n",
       "      <td>3.0</td>\n",
       "      <td>7.0</td>\n",
       "      <td>14.0</td>\n",
       "      <td>-14.0</td>\n",
       "      <td>6.00000</td>\n",
       "      <td>4.5</td>\n",
       "      <td>41.66670</td>\n",
       "      <td>FR0200971363</td>\n",
       "      <td>&lt;NA&gt;</td>\n",
       "      <td>&lt;NA&gt;</td>\n",
       "      <td>&lt;NA&gt;</td>\n",
       "      <td>&lt;NA&gt;</td>\n",
       "      <td>&lt;NA&gt;</td>\n",
       "      <td>&lt;NA&gt;</td>\n",
       "      <td>&lt;NA&gt;</td>\n",
       "      <td>&lt;NA&gt;</td>\n",
       "    </tr>\n",
       "  </tbody>\n",
       "</table>\n",
       "<p>7800732 rows × 18 columns</p>\n",
       "</div>"
      ],
      "text/plain": [
       "                      ChAg   ChAn  Chgx  EAg   EAn   Egx      EtAg  Etgx  \\\n",
       "#YYYY-MM-DD HH:MM:SS                                                       \n",
       "2018-09-19 00:00:00    0.0   0.00  39.0  0.0   0.0   2.0   0.00000  54.6   \n",
       "2018-09-19 00:05:00    4.0   4.00  40.0  1.5   1.0   0.0   1.00000  44.0   \n",
       "2018-09-19 00:10:00    4.0   4.75   2.0  1.5   1.0 -10.0   1.00000   3.0   \n",
       "2018-09-19 00:15:00   38.0  40.00  48.0  8.0  10.0  -1.0  10.00000  28.8   \n",
       "2018-09-19 00:20:00   19.2  45.00  10.0  4.8  12.0  -9.0   8.57143   9.0   \n",
       "...                    ...    ...   ...  ...   ...   ...       ...   ...   \n",
       "2015-08-29 04:30:00    0.0   0.00   7.0  0.0   0.0   2.0   0.00000   7.7   \n",
       "2015-08-29 04:35:00   32.0  45.00  44.0  8.0  20.0 -10.0   8.57143  30.8   \n",
       "2015-08-29 04:40:00   21.6  42.75   8.0  3.6   9.0 -11.0   1.28571  12.0   \n",
       "2015-08-29 04:45:00   22.4  72.00   2.0  3.2  16.0 -14.0   0.00000   3.0   \n",
       "2015-08-29 04:50:00   30.8  66.50   3.0  7.0  14.0 -14.0   6.00000   4.5   \n",
       "\n",
       "                          P0An        COW_ID  Rumination   Rest  OverActivity  \\\n",
       "#YYYY-MM-DD HH:MM:SS                                                            \n",
       "2018-09-19 00:00:00    0.00000  FR4973400320       False   True         False   \n",
       "2018-09-19 00:05:00    0.00000  FR4973400320       False   True         False   \n",
       "2018-09-19 00:10:00    0.00000  FR4973400320       False   True         False   \n",
       "2018-09-19 00:15:00    9.60000  FR4973400320       False   True         False   \n",
       "2018-09-19 00:20:00   15.00000  FR4973400320       False   True         False   \n",
       "...                        ...           ...         ...    ...           ...   \n",
       "2015-08-29 04:30:00    0.00000  FR0200971363        True  False         False   \n",
       "2015-08-29 04:35:00    4.26667  FR0200971363        True  False         False   \n",
       "2015-08-29 04:40:00   24.06670  FR0200971363        True  False         False   \n",
       "2015-08-29 04:45:00   38.40000  FR0200971363        True  False         False   \n",
       "2015-08-29 04:50:00   41.66670  FR0200971363        <NA>   <NA>          <NA>   \n",
       "\n",
       "                      Ingestion_at_trough  Ingestion_at_pasture  \\\n",
       "#YYYY-MM-DD HH:MM:SS                                              \n",
       "2018-09-19 00:00:00                 False                 False   \n",
       "2018-09-19 00:05:00                 False                 False   \n",
       "2018-09-19 00:10:00                 False                 False   \n",
       "2018-09-19 00:15:00                 False                 False   \n",
       "2018-09-19 00:20:00                 False                 False   \n",
       "...                                   ...                   ...   \n",
       "2015-08-29 04:30:00                 False                 False   \n",
       "2015-08-29 04:35:00                 False                 False   \n",
       "2015-08-29 04:40:00                 False                 False   \n",
       "2015-08-29 04:45:00                 False                 False   \n",
       "2015-08-29 04:50:00                  <NA>                  <NA>   \n",
       "\n",
       "                      OtherActivity     Up  Ingestion  \n",
       "#YYYY-MM-DD HH:MM:SS                                   \n",
       "2018-09-19 00:00:00           False  False      False  \n",
       "2018-09-19 00:05:00           False  False      False  \n",
       "2018-09-19 00:10:00           False  False      False  \n",
       "2018-09-19 00:15:00           False  False      False  \n",
       "2018-09-19 00:20:00           False  False      False  \n",
       "...                             ...    ...        ...  \n",
       "2015-08-29 04:30:00           False  False      False  \n",
       "2015-08-29 04:35:00           False  False      False  \n",
       "2015-08-29 04:40:00           False  False      False  \n",
       "2015-08-29 04:45:00           False  False      False  \n",
       "2015-08-29 04:50:00            <NA>   <NA>       <NA>  \n",
       "\n",
       "[7800732 rows x 18 columns]"
      ]
     },
     "execution_count": 9,
     "metadata": {},
     "output_type": "execute_result"
    }
   ],
   "source": [
    "df"
   ]
  },
  {
   "cell_type": "code",
   "execution_count": null,
   "metadata": {},
   "outputs": [
    {
     "data": {
      "image/png": "[encoded data removed]",
      "text/plain": [
       "<Figure size 432x288 with 1 Axes>"
      ]
     },
     "metadata": {
      "needs_background": "light"
     },
     "output_type": "display_data"
    }
   ],
   "source": [
    "df.plot(x=\"EAg\", y=\"Etgx\", kind=\"scatter\")\n",
    "plt.show()"
   ]
  },
  {
   "cell_type": "code",
   "execution_count": null,
   "metadata": {},
   "outputs": [
    {
     "name": "stdout",
     "output_type": "stream",
     "text": [
      "                      ChAg   ChAn  Chgx  EAg   EAn   Egx      EtAg  Etgx  \\\n",
      "#YYYY-MM-DD HH:MM:SS                                                       \n",
      "2018-09-19 00:00:00    0.0   0.00  39.0  0.0   0.0   2.0   0.00000  54.6   \n",
      "2018-09-19 00:05:00    4.0   4.00  40.0  1.5   1.0   0.0   1.00000  44.0   \n",
      "2018-09-19 00:10:00    4.0   4.75   2.0  1.5   1.0 -10.0   1.00000   3.0   \n",
      "2018-09-19 00:15:00   38.0  40.00  48.0  8.0  10.0  -1.0  10.00000  28.8   \n",
      "2018-09-19 00:20:00   19.2  45.00  10.0  4.8  12.0  -9.0   8.57143   9.0   \n",
      "...                    ...    ...   ...  ...   ...   ...       ...   ...   \n",
      "2015-08-29 04:30:00    0.0   0.00   7.0  0.0   0.0   2.0   0.00000   7.7   \n",
      "2015-08-29 04:35:00   32.0  45.00  44.0  8.0  20.0 -10.0   8.57143  30.8   \n",
      "2015-08-29 04:40:00   21.6  42.75   8.0  3.6   9.0 -11.0   1.28571  12.0   \n",
      "2015-08-29 04:45:00   22.4  72.00   2.0  3.2  16.0 -14.0   0.00000   3.0   \n",
      "2015-08-29 04:50:00   30.8  66.50   3.0  7.0  14.0 -14.0   6.00000   4.5   \n",
      "\n",
      "                          P0An        COW_ID  Rumination  Rest  OverActivity  \\\n",
      "#YYYY-MM-DD HH:MM:SS                                                           \n",
      "2018-09-19 00:00:00    0.00000  FR4973400320           0     1             0   \n",
      "2018-09-19 00:05:00    0.00000  FR4973400320           0     1             0   \n",
      "2018-09-19 00:10:00    0.00000  FR4973400320           0     1             0   \n",
      "2018-09-19 00:15:00    9.60000  FR4973400320           0     1             0   \n",
      "2018-09-19 00:20:00   15.00000  FR4973400320           0     1             0   \n",
      "...                        ...           ...         ...   ...           ...   \n",
      "2015-08-29 04:30:00    0.00000  FR0200971363           1     0             0   \n",
      "2015-08-29 04:35:00    4.26667  FR0200971363           1     0             0   \n",
      "2015-08-29 04:40:00   24.06670  FR0200971363           1     0             0   \n",
      "2015-08-29 04:45:00   38.40000  FR0200971363           1     0             0   \n",
      "2015-08-29 04:50:00   41.66670  FR0200971363        <NA>  <NA>          <NA>   \n",
      "\n",
      "                      Ingestion_at_trough  Ingestion_at_pasture  \\\n",
      "#YYYY-MM-DD HH:MM:SS                                              \n",
      "2018-09-19 00:00:00                     0                     0   \n",
      "2018-09-19 00:05:00                     0                     0   \n",
      "2018-09-19 00:10:00                     0                     0   \n",
      "2018-09-19 00:15:00                     0                     0   \n",
      "2018-09-19 00:20:00                     0                     0   \n",
      "...                                   ...                   ...   \n",
      "2015-08-29 04:30:00                     0                     0   \n",
      "2015-08-29 04:35:00                     0                     0   \n",
      "2015-08-29 04:40:00                     0                     0   \n",
      "2015-08-29 04:45:00                     0                     0   \n",
      "2015-08-29 04:50:00                  <NA>                  <NA>   \n",
      "\n",
      "                      OtherActivity    Up  Ingestion  \n",
      "#YYYY-MM-DD HH:MM:SS                                  \n",
      "2018-09-19 00:00:00               0     0          0  \n",
      "2018-09-19 00:05:00               0     0          0  \n",
      "2018-09-19 00:10:00               0     0          0  \n",
      "2018-09-19 00:15:00               0     0          0  \n",
      "2018-09-19 00:20:00               0     0          0  \n",
      "...                             ...   ...        ...  \n",
      "2015-08-29 04:30:00               0     0          0  \n",
      "2015-08-29 04:35:00               0     0          0  \n",
      "2015-08-29 04:40:00               0     0          0  \n",
      "2015-08-29 04:45:00               0     0          0  \n",
      "2015-08-29 04:50:00            <NA>  <NA>       <NA>  \n",
      "\n",
      "[7800732 rows x 18 columns]\n"
     ]
    }
   ],
   "source": [
    "\n",
    "df[\"Rumination\"] = 1 * df[\"Rumination\"]\n",
    "df[\"Rest\"] = 1 * df[\"Rest\"]\n",
    "df[\"OverActivity\"] = 1 * df[\"OverActivity\"]\n",
    "df[\"Ingestion_at_trough\"] = 1 * df[\"Ingestion_at_trough\"]\n",
    "df[\"Ingestion_at_pasture\"] = 1 * df[\"Ingestion_at_pasture\"]\n",
    "df[\"Ingestion\"] = 1 * df[\"Ingestion\"]\n",
    "df[\"OtherActivity\"] = 1 * df[\"OtherActivity\"]\n",
    "df[\"Up\"] = 1 * df[\"Up\"]\n",
    "\n",
    "print(df)"
   ]
  },
  {
   "cell_type": "code",
   "execution_count": null,
   "metadata": {},
   "outputs": [],
   "source": []
  },
  {
   "cell_type": "code",
   "execution_count": null,
   "metadata": {},
   "outputs": [
    {
     "data": {
      "image/png": "[encoded data removed]",
      "text/plain": [
       "<Figure size 432x288 with 1 Axes>"
      ]
     },
     "metadata": {
      "needs_background": "light"
     },
     "output_type": "display_data"
    }
   ],
   "source": [
    "df.plot(x=\"EAg\", y=\"Ingestion\", kind=\"scatter\")\n",
    "plt.show()"
   ]
  },
  {
   "cell_type": "code",
   "execution_count": null,
   "metadata": {},
   "outputs": [
    {
     "data": {
      "image/png": "[encoded data removed]",
      "text/plain": [
       "<Figure size 432x288 with 1 Axes>"
      ]
     },
     "metadata": {
      "needs_background": "light"
     },
     "output_type": "display_data"
    }
   ],
   "source": [
    "df.plot(x=\"EAn\", y=\"Ingestion\", kind=\"scatter\")\n",
    "plt.show()"
   ]
  },
  {
   "cell_type": "code",
   "execution_count": null,
   "metadata": {},
   "outputs": [
    {
     "data": {
      "image/png": "[encoded data removed]",
      "text/plain": [
       "<Figure size 432x288 with 1 Axes>"
      ]
     },
     "metadata": {
      "needs_background": "light"
     },
     "output_type": "display_data"
    }
   ],
   "source": [
    "df.plot(x=\"Egx\", y=\"Ingestion\", kind=\"scatter\")\n",
    "plt.show()"
   ]
  },
  {
   "cell_type": "code",
   "execution_count": null,
   "metadata": {},
   "outputs": [],
   "source": [
    "import seaborn as sns\n",
    "\n",
    "sns.kdeplot(data=df, x=\"Egx\")\n"
   ]
  },
  {
   "cell_type": "code",
   "execution_count": null,
   "metadata": {},
   "outputs": [],
   "source": [
    "# sns.kdeplot(data=df.loc[df.Ingestion==0], x=\"Egx\")\n",
    "# sns.kdeplot(data=df.loc[df.Ingestion==1], x=\"Egx\")\n",
    "sns.kdeplot(data=df.dropna(subset=['Egx', 'Ingestion']), x=\"Egx\", heu=\"Ingestion\")"
   ]
  },
  {
   "cell_type": "code",
   "execution_count": null,
   "metadata": {},
   "outputs": [],
   "source": [
    "sns.kdeplot(data=df.dropna(subset=['EAn', 'Ingestion']), x=\"Egx\", heu=\"Ingestion\")"
   ]
  },
  {
   "cell_type": "code",
   "execution_count": null,
   "metadata": {},
   "outputs": [],
   "source": [
    "sns.kdeplot(data=df.dropna(subset=['EAg', 'Ingestion']), x=\"Egx\", heu=\"Ingestion\")"
   ]
  },
  {
   "cell_type": "code",
   "execution_count": null,
   "metadata": {},
   "outputs": [],
   "source": [
    "sns.kdeplot(data=df.dropna(subset=['P0An', 'Ingestion']), x=\"P0An\", heu=\"Ingestion\")"
   ]
  }
 ],
 "metadata": {
  "interpreter": {
   "hash": "a6d9378c582a0c3cfcfffe3afa5adf8eff9e41a2a82d77b93896a6887c9d61ce"
  },
  "kernelspec": {
   "display_name": "Python 3.9.5 64-bit ('base': conda)",
   "name": "python3"
  },
  "language_info": {
   "codemirror_mode": {
    "name": "ipython",
    "version": 3
   },
   "file_extension": ".py",
   "mimetype": "text/x-python",
   "name": "python",
   "nbconvert_exporter": "python",
   "pygments_lexer": "ipython3",
   "version": "3.9.5"
  },
  "orig_nbformat": 4
 },
 "nbformat": 4,
 "nbformat_minor": 2
}
